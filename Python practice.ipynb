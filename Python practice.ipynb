{
 "cells": [
  {
   "cell_type": "markdown",
   "id": "ad583c7b",
   "metadata": {},
   "source": [
    "# Python Concepts and Practice\n",
    "\n",
    "[Input Function]"
   ]
  },
  {
   "cell_type": "code",
   "execution_count": 6,
   "id": "a8d3ab61",
   "metadata": {},
   "outputs": [
    {
     "name": "stdout",
     "output_type": "stream",
     "text": [
      "What is your favorite Marvel movie? Iron Man\n",
      "My favorite movie is:  Iron Man\n"
     ]
    }
   ],
   "source": [
    "# receiving input \n",
    "# from user \n",
    "question = input('What is your favorite Marvel movie? ')\n",
    "print('My favorite movie is: ', question)"
   ]
  },
  {
   "cell_type": "code",
   "execution_count": 8,
   "id": "5ddb2ae4",
   "metadata": {},
   "outputs": [
    {
     "name": "stdout",
     "output_type": "stream",
     "text": [
      "Birth year: 1995\n",
      "27\n"
     ]
    }
   ],
   "source": [
    "# type conversion\n",
    "birth_year = int(input('Birth year: '))\n",
    "age = 2022 - birth_year\n",
    "\n",
    "print(age)"
   ]
  },
  {
   "cell_type": "code",
   "execution_count": 10,
   "id": "e8166c1d",
   "metadata": {},
   "outputs": [
    {
     "name": "stdout",
     "output_type": "stream",
     "text": [
      "What is your favorite color? red\n",
      "Tony Stark likes red\n"
     ]
    }
   ],
   "source": [
    "# short excercise\n",
    "color = input('What is your favorite color? ')\n",
    "print('Tony Stark likes', color)"
   ]
  },
  {
   "cell_type": "markdown",
   "id": "9ddbd3f6",
   "metadata": {},
   "source": [
    "### [Strings]"
   ]
  },
  {
   "cell_type": "code",
   "execution_count": 14,
   "id": "e9016f91",
   "metadata": {},
   "outputs": [
    {
     "name": "stdout",
     "output_type": "stream",
     "text": [
      "Python's course for pros\n"
     ]
    }
   ],
   "source": [
    "internship = 'Python\\'s course for pros'\n",
    "print(internship)"
   ]
  },
  {
   "cell_type": "code",
   "execution_count": 16,
   "id": "78658a69",
   "metadata": {},
   "outputs": [
    {
     "name": "stdout",
     "output_type": "stream",
     "text": [
      "You are \"ugly\"\n"
     ]
    }
   ],
   "source": [
    "string_value = 'You are \"ugly\"'\n",
    "print(string_value)"
   ]
  },
  {
   "cell_type": "code",
   "execution_count": 18,
   "id": "7c7464ab",
   "metadata": {},
   "outputs": [
    {
     "name": "stdout",
     "output_type": "stream",
     "text": [
      "\n",
      "\n",
      "Hi Chris here is our first email to you.\n",
      "\n",
      "Thank you, \n",
      "The support team\n",
      "\n"
     ]
    }
   ],
   "source": [
    "# multi-string\n",
    "course = '''\n",
    "\n",
    "Hi Chris here is our first email to you.\n",
    "\n",
    "Thank you, \n",
    "The support team\n",
    "'''\n",
    "\n",
    "print(course)"
   ]
  },
  {
   "cell_type": "code",
   "execution_count": 28,
   "id": "e681146c",
   "metadata": {},
   "outputs": [
    {
     "name": "stdout",
     "output_type": "stream",
     "text": [
      "P\n",
      "n\n",
      "r\n",
      "Pyt\n",
      "Pyt\n",
      "on course for beginners\n",
      "Python c\n",
      "Python course for beginners\n"
     ]
    }
   ],
   "source": [
    "course = 'Python course for beginners'\n",
    "another = course[:]\n",
    "print(course[0])\n",
    "print(course[5])\n",
    "print(course[-2])\n",
    "print(course[0:3])\n",
    "print(course[:3])\n",
    "print(course[4:])\n",
    "print(course[:8])\n",
    "print(course[:])"
   ]
  },
  {
   "cell_type": "code",
   "execution_count": 32,
   "id": "c1d3f4de",
   "metadata": {},
   "outputs": [
    {
     "name": "stdout",
     "output_type": "stream",
     "text": [
      "ennife\n",
      "Jennife\n"
     ]
    }
   ],
   "source": [
    "name = 'Jennifer'\n",
    "\n",
    "print(name[1:-1])\n",
    "print(name[0:-1])"
   ]
  },
  {
   "cell_type": "markdown",
   "id": "69895b72",
   "metadata": {},
   "source": [
    "### [Formatted Strings]"
   ]
  },
  {
   "cell_type": "code",
   "execution_count": 39,
   "id": "bdda5de7",
   "metadata": {},
   "outputs": [
    {
     "name": "stdout",
     "output_type": "stream",
     "text": [
      "Christopher Garcia is a coder\n"
     ]
    }
   ],
   "source": [
    "first_name = 'Christopher'\n",
    "last_name = 'Garcia'\n",
    "\n",
    "# formatted string\n",
    "# f''\n",
    "msg = f'{first_name} {last_name} is a coder'\n",
    "print(msg)"
   ]
  },
  {
   "cell_type": "markdown",
   "id": "4987204b",
   "metadata": {},
   "source": [
    "### [String Methods]"
   ]
  },
  {
   "cell_type": "code",
   "execution_count": 40,
   "id": "429ea135",
   "metadata": {},
   "outputs": [
    {
     "name": "stdout",
     "output_type": "stream",
     "text": [
      "20\n"
     ]
    }
   ],
   "source": [
    "course = 'Python for Beginners'\n",
    "print(len(course))"
   ]
  },
  {
   "cell_type": "code",
   "execution_count": 52,
   "id": "6149bc86",
   "metadata": {},
   "outputs": [
    {
     "name": "stdout",
     "output_type": "stream",
     "text": [
      "PYTHON FOR BEGINNERS\n",
      "python for beginners\n",
      "0\n",
      "4\n",
      "11\n",
      "Python for Intermediates\n",
      "True\n",
      "False\n"
     ]
    }
   ],
   "source": [
    "# we can convert letters in the string\n",
    "# useing string methods\n",
    "# methods are unique to types\n",
    "\n",
    "print(course.upper())\n",
    "print(course.lower())\n",
    "\n",
    "print(course.find('P')) # return index of the first occurence of this character\n",
    "print(course.find('o'))\n",
    "\n",
    "print(course.find('Beginners')) # gives us index where it starts\n",
    "\n",
    "print(course.replace('Beginners', 'Intermediates'))\n",
    "\n",
    "print('Python' in course)\n",
    "print('cock' in course)"
   ]
  },
  {
   "cell_type": "markdown",
   "id": "5235ae24",
   "metadata": {},
   "source": [
    "### [Math Functions]"
   ]
  },
  {
   "cell_type": "code",
   "execution_count": 53,
   "id": "1c678c45",
   "metadata": {},
   "outputs": [
    {
     "name": "stdout",
     "output_type": "stream",
     "text": [
      "3\n"
     ]
    }
   ],
   "source": [
    "# functions for working with numbers\n",
    "x = 2.9\n",
    "print(round(x))"
   ]
  },
  {
   "cell_type": "code",
   "execution_count": 54,
   "id": "16e0ad74",
   "metadata": {},
   "outputs": [
    {
     "name": "stdout",
     "output_type": "stream",
     "text": [
      "500\n"
     ]
    }
   ],
   "source": [
    "print(abs(-500)) # absoulte value"
   ]
  },
  {
   "cell_type": "code",
   "execution_count": 58,
   "id": "f2e19949",
   "metadata": {},
   "outputs": [
    {
     "name": "stdout",
     "output_type": "stream",
     "text": [
      "3\n",
      "Floor of 2.9: 2\n"
     ]
    }
   ],
   "source": [
    "import math \n",
    "# module for complex mathmatical functions\n",
    "# we can use methods from math module\n",
    "\n",
    "print(math.ceil(2.9))\n",
    "print('Floor of 2.9:', math.floor(2.9))"
   ]
  },
  {
   "cell_type": "markdown",
   "id": "88a4259e",
   "metadata": {},
   "source": [
    "### [Conditionals]"
   ]
  },
  {
   "cell_type": "code",
   "execution_count": 65,
   "id": "330d1b7b",
   "metadata": {},
   "outputs": [
    {
     "name": "stdout",
     "output_type": "stream",
     "text": [
      "What is the weather today? overcast\n",
      "It seems to be a lovely day\n"
     ]
    }
   ],
   "source": [
    "day = input('What is the weather today? ')\n",
    "\n",
    "\n",
    "if day == 'hot':\n",
    "    print('It\\'s a hot day')\n",
    "    print('Drink plenty of water')\n",
    "elif day == 'cold':\n",
    "    print('It\\'s a cold day')\n",
    "    print('Wear warm clothes')\n",
    "else:\n",
    "    print('It seems to be a lovely day')"
   ]
  },
  {
   "cell_type": "code",
   "execution_count": 75,
   "id": "934e65ae",
   "metadata": {},
   "outputs": [
    {
     "name": "stdout",
     "output_type": "stream",
     "text": [
      "It's a hot day\n",
      "Drink plenty of water\n",
      "Enjoy your day\n"
     ]
    }
   ],
   "source": [
    "# using a boolean\n",
    "is_hot = True\n",
    "is_cold = False\n",
    "\n",
    "\n",
    "if is_hot:\n",
    "    print('It\\'s a hot day')\n",
    "    print('Drink plenty of water')\n",
    "elif is_cold:\n",
    "    print('It\\'s a cold day')\n",
    "    print('Wear warm clothes')\n",
    "else:\n",
    "    print('It seems to be a lovely day')\n",
    "\n",
    "print('Enjoy your day')"
   ]
  },
  {
   "cell_type": "code",
   "execution_count": 88,
   "id": "4818aeca",
   "metadata": {},
   "outputs": [
    {
     "name": "stdout",
     "output_type": "stream",
     "text": [
      "Enter your credit score: 780\n",
      "You need to put down $100000.0 down payment\n",
      "Hope you find your dream home!\n"
     ]
    }
   ],
   "source": [
    "price_house = 1000000\n",
    "\n",
    "buyer_credit = int(input('Enter your credit score: '))\n",
    "\n",
    "if buyer_credit > 680:\n",
    "    down = 0.1 * 1000000\n",
    "    print(f'You need to put down ${down} down payment')     \n",
    "elif buyer_credit < 680:\n",
    "    down = 0.2 * 1000000\n",
    "    print(f'You need to put down ${down} down payment')\n",
    "    \n",
    "print('Hope you find your dream home!')"
   ]
  },
  {
   "cell_type": "markdown",
   "id": "5fa9b8d2",
   "metadata": {},
   "source": [
    "### [Logical Operators]"
   ]
  },
  {
   "cell_type": "code",
   "execution_count": 100,
   "id": "6e42022c",
   "metadata": {},
   "outputs": [
    {
     "name": "stdout",
     "output_type": "stream",
     "text": [
      "Eligible for loan\n"
     ]
    }
   ],
   "source": [
    "has_good_credit = True\n",
    "has_criminal_record = False\n",
    "\n",
    "if has_good_credit and not has_criminal_record:\n",
    "    print('Eligible for loan')\n",
    "else:\n",
    "    print('Not eligible for loan')"
   ]
  },
  {
   "cell_type": "markdown",
   "id": "d7a2a249",
   "metadata": {},
   "source": [
    "### [Comparison Operators]"
   ]
  },
  {
   "cell_type": "code",
   "execution_count": 108,
   "id": "39c6646a",
   "metadata": {},
   "outputs": [
    {
     "name": "stdout",
     "output_type": "stream",
     "text": [
      "It is a hot day\n"
     ]
    }
   ],
   "source": [
    "# boolean exepression\n",
    "# ==, !=, >=, <=, <, > \n",
    "\n",
    "temperature = 45\n",
    "\n",
    "if temperature != 30:\n",
    "    print('It is a hot day')\n",
    "else:\n",
    "    print('It is not a hot day')"
   ]
  },
  {
   "cell_type": "code",
   "execution_count": 113,
   "id": "428be2c8",
   "metadata": {},
   "outputs": [
    {
     "name": "stdout",
     "output_type": "stream",
     "text": [
      "Enter your name: Christopher Garcia\n",
      "Name looks good daddy\n"
     ]
    }
   ],
   "source": [
    "# validation message \n",
    "enter_name = input('Enter your name: ')\n",
    "\n",
    "if len(enter_name) < 3:\n",
    "    print('Name must be at least 3 characters')\n",
    "elif len(enter_name) > 50:\n",
    "    print('Name needs to be a maximum if 50 characters')\n",
    "else:\n",
    "    print('Name looks good daddy')"
   ]
  },
  {
   "cell_type": "code",
   "execution_count": 114,
   "id": "ea7fb657",
   "metadata": {},
   "outputs": [],
   "source": [
    "# weight converter?\n",
    "# practice\n",
    "# have user enter weight \n",
    "# either kg or lbs\n",
    "# convert to other unit"
   ]
  },
  {
   "cell_type": "markdown",
   "id": "86f6b368",
   "metadata": {},
   "source": [
    "### [While Loops]"
   ]
  },
  {
   "cell_type": "code",
   "execution_count": 117,
   "id": "64ae5cca",
   "metadata": {},
   "outputs": [
    {
     "name": "stdout",
     "output_type": "stream",
     "text": [
      "1\n",
      "2\n",
      "3\n",
      "4\n",
      "5\n",
      "Done\n"
     ]
    }
   ],
   "source": [
    "# as long as condition is true\n",
    "# the code in brackets\n",
    "# will keep running\n",
    "i = 1\n",
    "\n",
    "while i <= 5:\n",
    "    print(i)\n",
    "    i = i + 1 # this is so loop does not run forever\n",
    "    \n",
    "print('Done')"
   ]
  },
  {
   "cell_type": "code",
   "execution_count": 118,
   "id": "2601c1db",
   "metadata": {},
   "outputs": [
    {
     "name": "stdout",
     "output_type": "stream",
     "text": [
      "*\n",
      "**\n",
      "***\n",
      "****\n",
      "*****\n",
      "Done\n"
     ]
    }
   ],
   "source": [
    "i = 1\n",
    "\n",
    "while i <= 5:\n",
    "    print('*' * i)\n",
    "    i = i + 1 # this is so loop does not run forever\n",
    "    \n",
    "print('Done')"
   ]
  },
  {
   "cell_type": "markdown",
   "id": "11c834e3",
   "metadata": {},
   "source": [
    "### [For loops]\n",
    "\n",
    "Used to iterate over items, sequences, strings, lists"
   ]
  },
  {
   "cell_type": "code",
   "execution_count": 120,
   "id": "84bbad83",
   "metadata": {},
   "outputs": [
    {
     "name": "stdout",
     "output_type": "stream",
     "text": [
      "P\n",
      "y\n",
      "t\n",
      "h\n",
      "o\n",
      "n\n"
     ]
    }
   ],
   "source": [
    "for item in 'Python':\n",
    "    print(item)"
   ]
  },
  {
   "cell_type": "code",
   "execution_count": 123,
   "id": "ee07afd9",
   "metadata": {},
   "outputs": [
    {
     "name": "stdout",
     "output_type": "stream",
     "text": [
      "1\n",
      "2\n",
      "3\n",
      "4\n",
      "5\n",
      "6\n",
      "7\n",
      "8\n",
      "9\n",
      "10\n",
      "11\n",
      "12\n",
      "13\n",
      "14\n",
      "15\n",
      "16\n",
      "17\n",
      "18\n",
      "19\n",
      "20\n"
     ]
    }
   ],
   "source": [
    "for num in range(1, 21):\n",
    "    print(num)"
   ]
  },
  {
   "cell_type": "code",
   "execution_count": 125,
   "id": "8e8d28a6",
   "metadata": {},
   "outputs": [
    {
     "name": "stdout",
     "output_type": "stream",
     "text": [
      "Case1\n",
      "Case2\n",
      "Case3\n"
     ]
    }
   ],
   "source": [
    "for item in ['Case1', 'Case2', 'Case3']:\n",
    "    print(item)"
   ]
  },
  {
   "cell_type": "code",
   "execution_count": 129,
   "id": "2e6c2508",
   "metadata": {},
   "outputs": [
    {
     "name": "stdout",
     "output_type": "stream",
     "text": [
      "Total 10\n",
      "Total 30\n",
      "Total 60\n"
     ]
    }
   ],
   "source": [
    "prices = [10, 20, 30]\n",
    "total = 0\n",
    "\n",
    "for price in prices:\n",
    "    total += price\n",
    "\n",
    "    print(f'Total {total}')"
   ]
  },
  {
   "cell_type": "markdown",
   "id": "98bf40ee",
   "metadata": {},
   "source": [
    "### [Nested Loops]\n",
    "\n",
    "We can generate lists if coordinates"
   ]
  },
  {
   "cell_type": "code",
   "execution_count": 131,
   "id": "75b1b341",
   "metadata": {},
   "outputs": [
    {
     "name": "stdout",
     "output_type": "stream",
     "text": [
      "0, 0\n",
      "0, 1\n",
      "0, 2\n",
      "1, 0\n",
      "1, 1\n",
      "1, 2\n",
      "2, 0\n",
      "2, 1\n",
      "2, 2\n",
      "3, 0\n",
      "3, 1\n",
      "3, 2\n"
     ]
    }
   ],
   "source": [
    "# lets try and generate\n",
    "# two coordinates\n",
    "for x in range(4): \n",
    "    for y in range(3): # inner loop where y = 0, second iteration y is then 1\n",
    "        print(f'{x}, {y}')"
   ]
  },
  {
   "cell_type": "markdown",
   "id": "23a25560",
   "metadata": {},
   "source": [
    "### [Iterables]"
   ]
  },
  {
   "cell_type": "code",
   "execution_count": 132,
   "id": "d8477688",
   "metadata": {},
   "outputs": [
    {
     "name": "stdout",
     "output_type": "stream",
     "text": [
      "<class 'int'>\n"
     ]
    }
   ],
   "source": [
    "print(type(5))"
   ]
  },
  {
   "cell_type": "code",
   "execution_count": 134,
   "id": "24192c43",
   "metadata": {},
   "outputs": [
    {
     "name": "stdout",
     "output_type": "stream",
     "text": [
      "<class 'range'>\n"
     ]
    }
   ],
   "source": [
    "print(type(range(5)))"
   ]
  },
  {
   "cell_type": "markdown",
   "id": "5caf5d29",
   "metadata": {},
   "source": [
    "primative types-strings, integers\n",
    "\n",
    "complex types-the range function above"
   ]
  },
  {
   "cell_type": "code",
   "execution_count": 139,
   "id": "1f530f18",
   "metadata": {},
   "outputs": [
    {
     "name": "stdout",
     "output_type": "stream",
     "text": [
      "M\n",
      "a\n",
      "c\n",
      "h\n",
      "i\n",
      "n\n",
      "e\n"
     ]
    }
   ],
   "source": [
    "# iterables are objects\n",
    "# in which you can\n",
    "# iterate over\n",
    "\n",
    "for x in 'Machine': # returns an iterable object\n",
    "    print(x)"
   ]
  },
  {
   "cell_type": "code",
   "execution_count": 140,
   "id": "6e5d7b36",
   "metadata": {},
   "outputs": [
    {
     "name": "stdout",
     "output_type": "stream",
     "text": [
      "3\n",
      "5\n",
      "6\n",
      "7\n"
     ]
    }
   ],
   "source": [
    "for x in [3, 5, 6, 7]:\n",
    "    print(x)"
   ]
  },
  {
   "cell_type": "markdown",
   "id": "7202537a",
   "metadata": {},
   "source": [
    "### [Functions]\n",
    "\n",
    "Write our own functions. Programs will consist of thousands of lines of code. It is best to break everything down into resuable chunks."
   ]
  },
  {
   "cell_type": "code",
   "execution_count": 146,
   "id": "aaa0bdf7",
   "metadata": {},
   "outputs": [
    {
     "name": "stdout",
     "output_type": "stream",
     "text": [
      "Hi there Chris Garcia\n",
      "Welcome aboard\n",
      "Hi there Angel Klatt\n",
      "Welcome aboard\n"
     ]
    }
   ],
   "source": [
    "# example function\n",
    "def greet(first_name, last_name):\n",
    "    print(f'Hi there {first_name} {last_name}')\n",
    "    print('Welcome aboard')\n",
    "    \n",
    "\n",
    "greet('Chris', 'Garcia')\n",
    "greet('Angel', 'Klatt')"
   ]
  },
  {
   "cell_type": "code",
   "execution_count": 147,
   "id": "1c17df7a",
   "metadata": {},
   "outputs": [
    {
     "data": {
      "text/plain": [
       "3"
      ]
     },
     "execution_count": 147,
     "metadata": {},
     "output_type": "execute_result"
    }
   ],
   "source": [
    "# two types of functions\n",
    "# perform a task\n",
    "# return a value\n",
    "# this is an example of a function\n",
    "# that returns a value\n",
    "round(3.14)"
   ]
  },
  {
   "cell_type": "code",
   "execution_count": 152,
   "id": "5f1a1bbc",
   "metadata": {},
   "outputs": [
    {
     "name": "stdout",
     "output_type": "stream",
     "text": [
      "Hi Chris\n"
     ]
    }
   ],
   "source": [
    "# this function is not limited\n",
    "# to printing on the terminal\n",
    "# since it returns a value\n",
    "# we can reuse it over\n",
    "# and over again\n",
    "def get_greeting(name):\n",
    "    return f'Hi {name}'\n",
    "\n",
    "message = get_greeting('Chris')\n",
    "print(message)\n",
    "\n",
    "# file = open('content.txt', 'w')\n",
    "# file.write(message)"
   ]
  },
  {
   "cell_type": "code",
   "execution_count": 155,
   "id": "12ca1a19",
   "metadata": {},
   "outputs": [
    {
     "name": "stdout",
     "output_type": "stream",
     "text": [
      "3\n"
     ]
    }
   ],
   "source": [
    "# keyword arguments help\n",
    "# make code more readable\n",
    "def increment(number, by):\n",
    "    '''\n",
    "    increment number by 1\n",
    "    '''\n",
    "    return number + by\n",
    "\n",
    "\n",
    "\n",
    "print(increment(2,by=1)) # keyword argument"
   ]
  },
  {
   "cell_type": "code",
   "execution_count": 157,
   "id": "b90ceb83",
   "metadata": {},
   "outputs": [
    {
     "name": "stdout",
     "output_type": "stream",
     "text": [
      "3\n",
      "7\n"
     ]
    }
   ],
   "source": [
    "# make by parameter \n",
    "# optional\n",
    "def increment(number, by=1):\n",
    "    '''\n",
    "    increment by parameter\n",
    "    by=1 is optional\n",
    "    '''\n",
    "    return number + by\n",
    "\n",
    "\n",
    "print(increment(2))\n",
    "print(increment(2, 5))"
   ]
  },
  {
   "cell_type": "code",
   "execution_count": 164,
   "id": "81f58580",
   "metadata": {},
   "outputs": [
    {
     "name": "stdout",
     "output_type": "stream",
     "text": [
      "60\n"
     ]
    }
   ],
   "source": [
    "# xargs\n",
    "# numbers is a collection of arguments\n",
    "def multiply(*numbers):\n",
    "    '''\n",
    "    multiplies all values with eachother\n",
    "    '''\n",
    "    total = 1\n",
    "    for number in numbers:\n",
    "        total *= number\n",
    "    return total\n",
    "\n",
    "\n",
    "\n",
    "print(multiply(2, 3, 5, 2))"
   ]
  },
  {
   "cell_type": "code",
   "execution_count": 168,
   "id": "01f61e27",
   "metadata": {},
   "outputs": [
    {
     "name": "stdout",
     "output_type": "stream",
     "text": [
      "{'id': 1, 'name': 'Chris', 'age': 22}\n"
     ]
    }
   ],
   "source": [
    "# xxargs\n",
    "# pass multiple keyword arguments\n",
    "# python packs them into a dict\n",
    "def save_user(**user):\n",
    "    '''\n",
    "    saves information about a user\n",
    "    '''\n",
    "    print(user)\n",
    "    \n",
    "save_user(id=1, name='Chris', age=22) # we can pass keyword arguments\n",
    "# gives us key value pairs\n",
    "# or dictionaries"
   ]
  },
  {
   "cell_type": "code",
   "execution_count": 173,
   "id": "b7e090fc",
   "metadata": {},
   "outputs": [],
   "source": [
    "# scope\n",
    "# region of code where\n",
    "# variable is defined\n",
    "# these are local variables\n",
    "\n",
    "def greet(name):\n",
    "    '''\n",
    "    message only exists in function\n",
    "    '''\n",
    "    message = 'a'\n",
    "    \n",
    "def send_email(name):\n",
    "    '''\n",
    "    separate variable than the one above\n",
    "    '''\n",
    "    message = 'b'"
   ]
  },
  {
   "cell_type": "code",
   "execution_count": 174,
   "id": "80104217",
   "metadata": {},
   "outputs": [],
   "source": [
    "# we also have global variables\n",
    "# variables that are accesible everywhere\n",
    "# stay in memory longer\n",
    "# always best to create functions\n",
    "# using local variables"
   ]
  },
  {
   "cell_type": "code",
   "execution_count": 175,
   "id": "e3c6160d",
   "metadata": {},
   "outputs": [],
   "source": [
    "# debugging tools\n",
    "# find and fix bugs in program\n",
    "# lecture 9 of functions- save for another time\n"
   ]
  },
  {
   "cell_type": "markdown",
   "id": "1964bac5",
   "metadata": {},
   "source": [
    "### [Basic Data Structures]"
   ]
  },
  {
   "cell_type": "code",
   "execution_count": 181,
   "id": "e403225e",
   "metadata": {},
   "outputs": [
    {
     "name": "stdout",
     "output_type": "stream",
     "text": [
      "(0, 'a')\n",
      "(1, 'b')\n",
      "(2, 'c')\n"
     ]
    }
   ],
   "source": [
    "# loop over lists\n",
    "letters = ['a', 'b', 'c']\n",
    "for letter in enumerate(letters):\n",
    "    print(letter)"
   ]
  },
  {
   "cell_type": "markdown",
   "id": "76c0799e",
   "metadata": {},
   "source": [
    "# CodeAcademy-Python Concepts\n",
    "\n",
    "### [Lambda Functions]"
   ]
  },
  {
   "cell_type": "code",
   "execution_count": null,
   "id": "bd56d54c",
   "metadata": {},
   "outputs": [],
   "source": []
  },
  {
   "cell_type": "code",
   "execution_count": null,
   "id": "5f751307",
   "metadata": {},
   "outputs": [],
   "source": []
  },
  {
   "cell_type": "code",
   "execution_count": null,
   "id": "287e8586",
   "metadata": {},
   "outputs": [],
   "source": []
  },
  {
   "cell_type": "code",
   "execution_count": null,
   "id": "b9c48716",
   "metadata": {},
   "outputs": [],
   "source": []
  }
 ],
 "metadata": {
  "kernelspec": {
   "display_name": "Python 3 (ipykernel)",
   "language": "python",
   "name": "python3"
  },
  "language_info": {
   "codemirror_mode": {
    "name": "ipython",
    "version": 3
   },
   "file_extension": ".py",
   "mimetype": "text/x-python",
   "name": "python",
   "nbconvert_exporter": "python",
   "pygments_lexer": "ipython3",
   "version": "3.9.7"
  }
 },
 "nbformat": 4,
 "nbformat_minor": 5
}
